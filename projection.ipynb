{
 "cells": [
  {
   "cell_type": "markdown",
   "metadata": {},
   "source": [
    "# Projection of simple Term Death Policies"
   ]
  },
  {
   "cell_type": "code",
   "execution_count": null,
   "metadata": {},
   "outputs": [],
   "source": [
    "import math\n",
    "import pandas\n",
    "\n",
    "def month_diff(a, b):\n",
    "    return 12 * (a.year - b.year) + (a.month - b.month)\n",
    "\n",
    "def elapsed_months(record):\n",
    "    return month_diff(valdate, record.StartDate)\n",
    "\n",
    "def start_age_months(record):\n",
    "    return month_diff(record.StartDate, record.BirthDate)\n"
   ]
  },
  {
   "cell_type": "code",
   "execution_count": null,
   "metadata": {},
   "outputs": [],
   "source": [
    "valdate = pandas.Timestamp('2020-10-01')"
   ]
  },
  {
   "cell_type": "markdown",
   "metadata": {},
   "source": [
    "### Preparing the input Data\n",
    "First the input is read and the contract number is chosen as the index"
   ]
  },
  {
   "cell_type": "code",
   "execution_count": null,
   "metadata": {},
   "outputs": [],
   "source": [
    "contracts = pandas.read_excel('SampleInput.xlsx')\n",
    "contracts = contracts.set_index('ContractNo')"
   ]
  },
  {
   "cell_type": "markdown",
   "metadata": {},
   "source": [
    "Two columns are added to the input file:\n",
    "  * ElapsedMonths: Number of months between StartDate and valdate\n",
    "  * StartAgeMonths: Age of the insured person at StartDate in months"
   ]
  },
  {
   "cell_type": "code",
   "execution_count": null,
   "metadata": {},
   "outputs": [],
   "source": [
    "contracts['ElapsedMonths'] = contracts.apply(elapsed_months, 'columns')\n",
    "contracts['StartAgeMonths'] = contracts.apply(start_age_months, 'columns')\n",
    "contracts"
   ]
  },
  {
   "cell_type": "markdown",
   "metadata": {},
   "source": [
    "### Defining the projection\n",
    "The function `project` creates a new dataframe for each record it is given."
   ]
  },
  {
   "cell_type": "code",
   "execution_count": null,
   "metadata": {},
   "outputs": [],
   "source": [
    "def project(record):\n",
    "    global grec\n",
    "    grec = record\n",
    "    alpha = {'M': 1.7e-5, 'F': 1.5e-5}[record.Sex]\n",
    "    beta = 0.0081\n",
    "    survivors = 1\n",
    "    accum_deaths = 0\n",
    "\n",
    "    Time = [0]\n",
    "    AgeMonths = [record.StartAgeMonths]\n",
    "    Survivors = [survivors]\n",
    "    AccumDeaths = [accum_deaths]\n",
    "    Deaths = [None]\n",
    "\n",
    "    for t in range(1, record.TermMonths - record.ElapsedMonths + 2):\n",
    "        age_months = record.StartAgeMonths + t\n",
    "        # use mortality from previous month\n",
    "        mortality = min(1.0, alpha * math.exp((age_months-1) * beta))\n",
    "        deaths = survivors * mortality\n",
    "        survivors -= deaths\n",
    "        accum_deaths += deaths\n",
    "\n",
    "        Time.append(t)\n",
    "        AgeMonths.append(age_months)\n",
    "        Survivors.append(survivors)\n",
    "        AccumDeaths.append(accum_deaths)\n",
    "        Deaths.append(deaths)\n",
    "\n",
    "    return pandas.DataFrame({\n",
    "        'ContractNo': [record.name]*len(Time),\n",
    "        'Time': Time,\n",
    "        'Survivors': Survivors,\n",
    "        'AccumDeaths': AccumDeaths,\n",
    "        'Deaths': Deaths,\n",
    "        }).set_index(['ContractNo', 'Time'])"
   ]
  },
  {
   "cell_type": "markdown",
   "metadata": {},
   "source": [
    "To see the projection in action, lets see the result of projecting the first contract:"
   ]
  },
  {
   "cell_type": "code",
   "execution_count": null,
   "metadata": {
    "scrolled": false
   },
   "outputs": [],
   "source": [
    "project(contracts.iloc[0])"
   ]
  },
  {
   "cell_type": "markdown",
   "metadata": {},
   "source": [
    "Usually we will project all contracts at once:"
   ]
  },
  {
   "cell_type": "code",
   "execution_count": null,
   "metadata": {},
   "outputs": [],
   "source": [
    "projection = pandas.concat(contracts.apply(project, 'columns').tolist())"
   ]
  },
  {
   "cell_type": "markdown",
   "metadata": {},
   "source": [
    "Then lets get the SumInsured from the original table and calculate a cashflow DeathClaim"
   ]
  },
  {
   "cell_type": "code",
   "execution_count": null,
   "metadata": {},
   "outputs": [],
   "source": [
    "projection = projection.merge(contracts['SumInsured'], how='left', left_index=True, right_index=True)\n",
    "projection['DeathClaim'] = projection['SumInsured'] * projection['Deaths']\n",
    "projection"
   ]
  },
  {
   "cell_type": "markdown",
   "metadata": {},
   "source": [
    "### Discount Rate\n",
    "For simplicity a flat rate"
   ]
  },
  {
   "cell_type": "code",
   "execution_count": null,
   "metadata": {
    "scrolled": true
   },
   "outputs": [],
   "source": [
    "time = list(range(1000))\n",
    "df = [1.02 ** (-t/12) for t in time]\n",
    "discount = pandas.DataFrame({'Time': time, 'DiscountFactor': df})\n",
    "discount = discount.set_index('Time')\n",
    "discount"
   ]
  },
  {
   "cell_type": "code",
   "execution_count": null,
   "metadata": {},
   "outputs": [],
   "source": [
    "projection = projection.merge(discount, how='left', left_index=True, right_index=True)\n",
    "projection"
   ]
  },
  {
   "cell_type": "markdown",
   "metadata": {},
   "source": [
    "### Aggregating projected Cashflows\n",
    "The cashflows are aggregated by contract and then added as a new column in the contracts table"
   ]
  },
  {
   "cell_type": "code",
   "execution_count": null,
   "metadata": {},
   "outputs": [],
   "source": [
    "contracts['TotalDeathClaim'] = projection.groupby(['ContractNo'])[['DeathClaim']].sum()\n",
    "contracts['DiscountedDeathClaim'] = projection.assign(col=projection['DiscountFactor']*projection['DeathClaim']).groupby(['ContractNo']).col.sum()\n",
    "contracts"
   ]
  }
 ],
 "metadata": {
  "kernelspec": {
   "display_name": "Python 3",
   "language": "python",
   "name": "python3"
  },
  "language_info": {
   "codemirror_mode": {
    "name": "ipython",
    "version": 3
   },
   "file_extension": ".py",
   "mimetype": "text/x-python",
   "name": "python",
   "nbconvert_exporter": "python",
   "pygments_lexer": "ipython3",
   "version": "3.7.3"
  }
 },
 "nbformat": 4,
 "nbformat_minor": 4
}
